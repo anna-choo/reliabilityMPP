{
 "cells": [
  {
   "cell_type": "markdown",
   "metadata": {},
   "source": []
  },
  {
   "cell_type": "code",
   "execution_count": 4,
   "metadata": {},
   "outputs": [],
   "source": [
    "import pandas as pd\n",
    "df =  pd.read_excel(r'Z:\\RehabData\\Reliability Test\\post-training\\MPP_Reliability_24-03-2022\\Labelled\\HuiPing\\meta files - HuiPing.xlsx')"
   ]
  },
  {
   "cell_type": "code",
   "execution_count": 12,
   "metadata": {},
   "outputs": [
    {
     "name": "stdout",
     "output_type": "stream",
     "text": [
      "hand/leg\n",
      "nan\n",
      "LR\n",
      "LR\n",
      "LR\n",
      "nan\n",
      "LR\n",
      "LR\n",
      "LR\n",
      "nan\n",
      "LR\n",
      "LR\n",
      "nan\n",
      "LR\n",
      "LR\n",
      "nan\n",
      "LR\n",
      "nan\n",
      "LR\n",
      "LR\n",
      "nan\n",
      "nan\n",
      "nan\n",
      "nan\n",
      "nan\n",
      "LR\n",
      "nan\n",
      "nan\n",
      "LR\n",
      "nan\n",
      "LR\n",
      "nan\n",
      "LR\n",
      "nan\n",
      "LR\n",
      "nan\n",
      "LR\n",
      "nan\n",
      "LR\n"
     ]
    }
   ],
   "source": [
    "for index, row in df.iterrows():\n",
    "    print(row['dom'])"
   ]
  },
  {
   "cell_type": "code",
   "execution_count": 12,
   "metadata": {},
   "outputs": [],
   "source": [
    "fake = []\n",
    "from random import randint\n",
    "for _ in range(1267):\n",
    "    value = randint(1, 2)\n",
    "    fake.append(value)"
   ]
  },
  {
   "cell_type": "code",
   "execution_count": 8,
   "metadata": {},
   "outputs": [],
   "source": [
    "data = []\n",
    "import os, json,sys\n",
    "with open(os.path.join(r'C:\\Users\\Administrator\\Documents\\gitSMU\\NLP\\assignment2', \"test.jsonl\"), \"r\") as json_file:\n",
    "    test_json_list = list(json_file)\n",
    "\n",
    "for json_str in test_json_list:\n",
    "    # question = collections.defaultdict(dict)\n",
    "    result = json.loads(json_str)\n",
    "    data.append(result)"
   ]
  },
  {
   "cell_type": "code",
   "execution_count": 10,
   "metadata": {},
   "outputs": [
    {
     "data": {
      "text/plain": [
       "1267"
      ]
     },
     "execution_count": 10,
     "metadata": {},
     "output_type": "execute_result"
    }
   ],
   "source": [
    "len(data)"
   ]
  },
  {
   "cell_type": "code",
   "execution_count": 13,
   "metadata": {},
   "outputs": [],
   "source": [
    "with open(os.path.join(sys.path[0],\"pred_result.txt\"), 'w') as fp:\n",
    "    for i in fake:\n",
    "        fp.write(\"%s\\n\" % i)"
   ]
  },
  {
   "cell_type": "code",
   "execution_count": null,
   "metadata": {},
   "outputs": [],
   "source": []
  }
 ],
 "metadata": {
  "interpreter": {
   "hash": "4933380d0b0edc5c32a1defc5abdc40f21cefa9d501617a5f7b40a61b33cc205"
  },
  "kernelspec": {
   "display_name": "Python 3.10.4 ('reliabilityMPP')",
   "language": "python",
   "name": "python3"
  },
  "language_info": {
   "codemirror_mode": {
    "name": "ipython",
    "version": 3
   },
   "file_extension": ".py",
   "mimetype": "text/x-python",
   "name": "python",
   "nbconvert_exporter": "python",
   "pygments_lexer": "ipython3",
   "version": "3.10.4"
  },
  "orig_nbformat": 4
 },
 "nbformat": 4,
 "nbformat_minor": 2
}
