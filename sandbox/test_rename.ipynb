{
 "cells": [
  {
   "cell_type": "code",
   "execution_count": 132,
   "metadata": {},
   "outputs": [],
   "source": [
    "import os, collections, sys, re\n",
    "import pandas as pd\n",
    "import numpy as np\n",
    "from openpyxl import Workbook\n",
    "\n",
    "# sys.path.insert(0, r'C:\\Users\\Administrator\\Documents\\gitHub\\reliabilityMPP')\n",
    "\n",
    "from init import GLOBAL\n",
    "from utils.folders import folder_func\n"
   ]
  },
  {
   "cell_type": "code",
   "execution_count": 123,
   "metadata": {},
   "outputs": [],
   "source": []
  },
  {
   "cell_type": "code",
   "execution_count": 130,
   "metadata": {},
   "outputs": [],
   "source": [
    "class RENAME_files(GLOBAL, folder_func):\n",
    "    def __init__(self):\n",
    "        super().__init__()\n",
    "        GLOBAL().__init__()\n",
    "        self.print()\n",
    "        print(self.dir)\n",
    "        # print(self.test)\n",
    "        # folders = self.open_folder(self.dir)\n",
    "        # print(folders)"
   ]
  },
  {
   "cell_type": "code",
   "execution_count": 131,
   "metadata": {},
   "outputs": [
    {
     "ename": "AttributeError",
     "evalue": "'RENAME_files' object has no attribute 'print'",
     "output_type": "error",
     "traceback": [
      "\u001b[1;31m---------------------------------------------------------------------------\u001b[0m",
      "\u001b[1;31mAttributeError\u001b[0m                            Traceback (most recent call last)",
      "\u001b[1;32mc:\\Users\\Administrator\\Documents\\gitHub\\reliabilityMPP\\sandbox\\test_rename.ipynb Cell 4'\u001b[0m in \u001b[0;36m<cell line: 1>\u001b[1;34m()\u001b[0m\n\u001b[1;32m----> <a href='vscode-notebook-cell:/c%3A/Users/Administrator/Documents/gitHub/reliabilityMPP/sandbox/test_rename.ipynb#ch0000003?line=0'>1</a>\u001b[0m test \u001b[39m=\u001b[39m RENAME_files()\n",
      "\u001b[1;32mc:\\Users\\Administrator\\Documents\\gitHub\\reliabilityMPP\\sandbox\\test_rename.ipynb Cell 3'\u001b[0m in \u001b[0;36mRENAME_files.__init__\u001b[1;34m(self)\u001b[0m\n\u001b[0;32m      <a href='vscode-notebook-cell:/c%3A/Users/Administrator/Documents/gitHub/reliabilityMPP/sandbox/test_rename.ipynb#ch0000002?line=2'>3</a>\u001b[0m \u001b[39msuper\u001b[39m()\u001b[39m.\u001b[39m\u001b[39m__init__\u001b[39m()\n\u001b[0;32m      <a href='vscode-notebook-cell:/c%3A/Users/Administrator/Documents/gitHub/reliabilityMPP/sandbox/test_rename.ipynb#ch0000002?line=3'>4</a>\u001b[0m GLOBAL()\u001b[39m.\u001b[39m\u001b[39m__init__\u001b[39m()\n\u001b[1;32m----> <a href='vscode-notebook-cell:/c%3A/Users/Administrator/Documents/gitHub/reliabilityMPP/sandbox/test_rename.ipynb#ch0000002?line=4'>5</a>\u001b[0m \u001b[39mself\u001b[39;49m\u001b[39m.\u001b[39;49mprint()\n\u001b[0;32m      <a href='vscode-notebook-cell:/c%3A/Users/Administrator/Documents/gitHub/reliabilityMPP/sandbox/test_rename.ipynb#ch0000002?line=5'>6</a>\u001b[0m \u001b[39mprint\u001b[39m(\u001b[39mself\u001b[39m\u001b[39m.\u001b[39mdir)\n",
      "\u001b[1;31mAttributeError\u001b[0m: 'RENAME_files' object has no attribute 'print'"
     ]
    }
   ],
   "source": [
    "test = RENAME_files()"
   ]
  },
  {
   "cell_type": "code",
   "execution_count": null,
   "metadata": {},
   "outputs": [],
   "source": []
  }
 ],
 "metadata": {
  "interpreter": {
   "hash": "4933380d0b0edc5c32a1defc5abdc40f21cefa9d501617a5f7b40a61b33cc205"
  },
  "kernelspec": {
   "display_name": "Python 3.10.4 ('reliabilityMPP')",
   "language": "python",
   "name": "python3"
  },
  "language_info": {
   "codemirror_mode": {
    "name": "ipython",
    "version": 3
   },
   "file_extension": ".py",
   "mimetype": "text/x-python",
   "name": "python",
   "nbconvert_exporter": "python",
   "pygments_lexer": "ipython3",
   "version": "3.10.4"
  },
  "orig_nbformat": 4
 },
 "nbformat": 4,
 "nbformat_minor": 2
}
